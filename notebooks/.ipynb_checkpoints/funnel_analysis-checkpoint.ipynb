{
 "cells": [
  {
   "cell_type": "markdown",
   "id": "883592cd-7c32-4036-a3ff-30c1b9fee98d",
   "metadata": {},
   "source": [
    "Funnel Analysis"
   ]
  },
  {
   "cell_type": "code",
   "execution_count": 1,
   "id": "0da833cc-a9a9-4dd4-9db6-f2998bb6878f",
   "metadata": {},
   "outputs": [
    {
     "data": {
      "text/html": [
       "<div>\n",
       "<style scoped>\n",
       "    .dataframe tbody tr th:only-of-type {\n",
       "        vertical-align: middle;\n",
       "    }\n",
       "\n",
       "    .dataframe tbody tr th {\n",
       "        vertical-align: top;\n",
       "    }\n",
       "\n",
       "    .dataframe thead th {\n",
       "        text-align: right;\n",
       "    }\n",
       "</style>\n",
       "<table border=\"1\" class=\"dataframe\">\n",
       "  <thead>\n",
       "    <tr style=\"text-align: right;\">\n",
       "      <th></th>\n",
       "      <th>prospect_id</th>\n",
       "      <th>region</th>\n",
       "      <th>channel</th>\n",
       "      <th>lead_date</th>\n",
       "      <th>contacted_date</th>\n",
       "      <th>engaged_date</th>\n",
       "      <th>application_date</th>\n",
       "      <th>enrolled_date</th>\n",
       "    </tr>\n",
       "  </thead>\n",
       "  <tbody>\n",
       "    <tr>\n",
       "      <th>0</th>\n",
       "      <td>P0001</td>\n",
       "      <td>West</td>\n",
       "      <td>Webinar</td>\n",
       "      <td>2024-04-27</td>\n",
       "      <td>NaN</td>\n",
       "      <td>NaN</td>\n",
       "      <td>NaN</td>\n",
       "      <td></td>\n",
       "    </tr>\n",
       "    <tr>\n",
       "      <th>1</th>\n",
       "      <td>P0002</td>\n",
       "      <td>Northeast</td>\n",
       "      <td>Webinar</td>\n",
       "      <td>2024-03-11</td>\n",
       "      <td>2024-03-13</td>\n",
       "      <td>2024-03-16</td>\n",
       "      <td>2024-03-20</td>\n",
       "      <td></td>\n",
       "    </tr>\n",
       "    <tr>\n",
       "      <th>2</th>\n",
       "      <td>P0003</td>\n",
       "      <td>Southeast</td>\n",
       "      <td>Email</td>\n",
       "      <td>2024-05-14</td>\n",
       "      <td>2024-05-18</td>\n",
       "      <td>2024-05-19</td>\n",
       "      <td>2024-05-20</td>\n",
       "      <td></td>\n",
       "    </tr>\n",
       "    <tr>\n",
       "      <th>3</th>\n",
       "      <td>P0004</td>\n",
       "      <td>West</td>\n",
       "      <td>Referral</td>\n",
       "      <td>2024-02-19</td>\n",
       "      <td>2024-02-21</td>\n",
       "      <td>2024-02-25</td>\n",
       "      <td>2024-02-28</td>\n",
       "      <td>2024-03-05</td>\n",
       "    </tr>\n",
       "    <tr>\n",
       "      <th>4</th>\n",
       "      <td>P0005</td>\n",
       "      <td>West</td>\n",
       "      <td>Social Media</td>\n",
       "      <td>2024-06-07</td>\n",
       "      <td>2024-06-12</td>\n",
       "      <td>2024-06-13</td>\n",
       "      <td>2024-06-19</td>\n",
       "      <td>2024-06-22</td>\n",
       "    </tr>\n",
       "  </tbody>\n",
       "</table>\n",
       "</div>"
      ],
      "text/plain": [
       "  prospect_id     region       channel   lead_date contacted_date  \\\n",
       "0       P0001       West       Webinar  2024-04-27            NaN   \n",
       "1       P0002  Northeast       Webinar  2024-03-11     2024-03-13   \n",
       "2       P0003  Southeast         Email  2024-05-14     2024-05-18   \n",
       "3       P0004       West      Referral  2024-02-19     2024-02-21   \n",
       "4       P0005       West  Social Media  2024-06-07     2024-06-12   \n",
       "\n",
       "  engaged_date application_date enrolled_date  \n",
       "0          NaN              NaN                \n",
       "1   2024-03-16       2024-03-20                \n",
       "2   2024-05-19       2024-05-20                \n",
       "3   2024-02-25       2024-02-28    2024-03-05  \n",
       "4   2024-06-13       2024-06-19    2024-06-22  "
      ]
     },
     "execution_count": 1,
     "metadata": {},
     "output_type": "execute_result"
    }
   ],
   "source": [
    "# Step 1 - Import pandas\n",
    "import pandas as pd\n",
    "\n",
    "# Step 2 - Load the data from the data folder\n",
    "df = pd.read_csv(\"../data/prospect_funnel_raw.csv\")\n",
    "\n",
    "#Step 3 - Display first few rows\n",
    "df.head()"
   ]
  },
  {
   "cell_type": "markdown",
   "id": "59f878d2-aa2f-4b47-8eac-33c358951c94",
   "metadata": {},
   "source": [
    "Convert all stage dates to datetime"
   ]
  },
  {
   "cell_type": "code",
   "execution_count": 3,
   "id": "5e6dfe06-b2de-462a-ae99-8d6aeae438d4",
   "metadata": {},
   "outputs": [
    {
     "name": "stderr",
     "output_type": "stream",
     "text": [
      "C:\\Users\\Oholg\\AppData\\Local\\Temp\\ipykernel_10632\\3996208189.py:10: UserWarning: Could not infer format, so each element will be parsed individually, falling back to `dateutil`. To ensure parsing is consistent and as-expected, please specify a format.\n",
      "  df[date_cols] = df[date_cols].apply(pd.to_datetime, errors='coerce')\n"
     ]
    },
    {
     "data": {
      "text/plain": [
       "prospect_id                 object\n",
       "region                      object\n",
       "channel                     object\n",
       "lead_date           datetime64[ns]\n",
       "contacted_date      datetime64[ns]\n",
       "engaged_date        datetime64[ns]\n",
       "application_date    datetime64[ns]\n",
       "enrolled_date       datetime64[ns]\n",
       "dtype: object"
      ]
     },
     "execution_count": 3,
     "metadata": {},
     "output_type": "execute_result"
    }
   ],
   "source": [
    "# Convert all stage dates to datetime\n",
    "date_cols = [\n",
    "    'lead_date',\n",
    "    'contacted_date',\n",
    "    'engaged_date',\n",
    "    'application_date',\n",
    "    'enrolled_date'\n",
    "]\n",
    "\n",
    "df[date_cols] = df[date_cols].apply(pd.to_datetime, errors='coerce')\n",
    "\n",
    "# Check data types to confirm conversion\n",
    "df.dtypes"
   ]
  },
  {
   "cell_type": "markdown",
   "id": "07e334fb-5a46-4060-bb0c-f9a17a0c2a76",
   "metadata": {},
   "source": [
    "Add flags for the stage completion"
   ]
  },
  {
   "cell_type": "code",
   "execution_count": 7,
   "id": "2b26dad0-c318-4b85-8fba-262137188c8b",
   "metadata": {},
   "outputs": [
    {
     "data": {
      "text/html": [
       "<div>\n",
       "<style scoped>\n",
       "    .dataframe tbody tr th:only-of-type {\n",
       "        vertical-align: middle;\n",
       "    }\n",
       "\n",
       "    .dataframe tbody tr th {\n",
       "        vertical-align: top;\n",
       "    }\n",
       "\n",
       "    .dataframe thead th {\n",
       "        text-align: right;\n",
       "    }\n",
       "</style>\n",
       "<table border=\"1\" class=\"dataframe\">\n",
       "  <thead>\n",
       "    <tr style=\"text-align: right;\">\n",
       "      <th></th>\n",
       "      <th>prospect_id</th>\n",
       "      <th>stage_contacted</th>\n",
       "      <th>stage_engaged</th>\n",
       "      <th>stage_applied</th>\n",
       "      <th>stage_enrolled</th>\n",
       "    </tr>\n",
       "  </thead>\n",
       "  <tbody>\n",
       "    <tr>\n",
       "      <th>0</th>\n",
       "      <td>P0001</td>\n",
       "      <td>False</td>\n",
       "      <td>False</td>\n",
       "      <td>False</td>\n",
       "      <td>False</td>\n",
       "    </tr>\n",
       "    <tr>\n",
       "      <th>1</th>\n",
       "      <td>P0002</td>\n",
       "      <td>True</td>\n",
       "      <td>True</td>\n",
       "      <td>True</td>\n",
       "      <td>False</td>\n",
       "    </tr>\n",
       "    <tr>\n",
       "      <th>2</th>\n",
       "      <td>P0003</td>\n",
       "      <td>True</td>\n",
       "      <td>True</td>\n",
       "      <td>True</td>\n",
       "      <td>False</td>\n",
       "    </tr>\n",
       "    <tr>\n",
       "      <th>3</th>\n",
       "      <td>P0004</td>\n",
       "      <td>True</td>\n",
       "      <td>True</td>\n",
       "      <td>True</td>\n",
       "      <td>True</td>\n",
       "    </tr>\n",
       "    <tr>\n",
       "      <th>4</th>\n",
       "      <td>P0005</td>\n",
       "      <td>True</td>\n",
       "      <td>True</td>\n",
       "      <td>True</td>\n",
       "      <td>True</td>\n",
       "    </tr>\n",
       "  </tbody>\n",
       "</table>\n",
       "</div>"
      ],
      "text/plain": [
       "  prospect_id  stage_contacted  stage_engaged  stage_applied  stage_enrolled\n",
       "0       P0001            False          False          False           False\n",
       "1       P0002             True           True           True           False\n",
       "2       P0003             True           True           True           False\n",
       "3       P0004             True           True           True            True\n",
       "4       P0005             True           True           True            True"
      ]
     },
     "execution_count": 7,
     "metadata": {},
     "output_type": "execute_result"
    }
   ],
   "source": [
    "# Add flags for the stage completion\n",
    "df[\"stage_contacted\"] = df[\"contacted_date\"].notnull()\n",
    "df[\"stage_engaged\"] = df[\"engaged_date\"].notnull()\n",
    "df[\"stage_applied\"] = df[\"application_date\"].notnull()\n",
    "df[\"stage_enrolled\"] = df[\"enrolled_date\"].notnull()\n",
    "\n",
    "# Preview updated dataset\n",
    "df[[\"prospect_id\", \"stage_contacted\", \"stage_engaged\", \"stage_applied\", \"stage_enrolled\"]].head()"
   ]
  },
  {
   "cell_type": "markdown",
   "id": "3e84a828-1662-4252-86d8-963c25af9496",
   "metadata": {},
   "source": [
    "Calculate days between funnel stages"
   ]
  },
  {
   "cell_type": "code",
   "execution_count": 9,
   "id": "333d04a0-410a-4507-b5f0-1d7dda06850d",
   "metadata": {},
   "outputs": [
    {
     "data": {
      "text/html": [
       "<div>\n",
       "<style scoped>\n",
       "    .dataframe tbody tr th:only-of-type {\n",
       "        vertical-align: middle;\n",
       "    }\n",
       "\n",
       "    .dataframe tbody tr th {\n",
       "        vertical-align: top;\n",
       "    }\n",
       "\n",
       "    .dataframe thead th {\n",
       "        text-align: right;\n",
       "    }\n",
       "</style>\n",
       "<table border=\"1\" class=\"dataframe\">\n",
       "  <thead>\n",
       "    <tr style=\"text-align: right;\">\n",
       "      <th></th>\n",
       "      <th>prospect_id</th>\n",
       "      <th>days_to_contact</th>\n",
       "      <th>days_to_engage</th>\n",
       "      <th>days_to_apply</th>\n",
       "      <th>days_to_enroll</th>\n",
       "    </tr>\n",
       "  </thead>\n",
       "  <tbody>\n",
       "    <tr>\n",
       "      <th>0</th>\n",
       "      <td>P0001</td>\n",
       "      <td>NaN</td>\n",
       "      <td>NaN</td>\n",
       "      <td>NaN</td>\n",
       "      <td>NaN</td>\n",
       "    </tr>\n",
       "    <tr>\n",
       "      <th>1</th>\n",
       "      <td>P0002</td>\n",
       "      <td>2.0</td>\n",
       "      <td>3.0</td>\n",
       "      <td>4.0</td>\n",
       "      <td>NaN</td>\n",
       "    </tr>\n",
       "    <tr>\n",
       "      <th>2</th>\n",
       "      <td>P0003</td>\n",
       "      <td>4.0</td>\n",
       "      <td>1.0</td>\n",
       "      <td>1.0</td>\n",
       "      <td>NaN</td>\n",
       "    </tr>\n",
       "    <tr>\n",
       "      <th>3</th>\n",
       "      <td>P0004</td>\n",
       "      <td>2.0</td>\n",
       "      <td>4.0</td>\n",
       "      <td>3.0</td>\n",
       "      <td>6.0</td>\n",
       "    </tr>\n",
       "    <tr>\n",
       "      <th>4</th>\n",
       "      <td>P0005</td>\n",
       "      <td>5.0</td>\n",
       "      <td>1.0</td>\n",
       "      <td>6.0</td>\n",
       "      <td>3.0</td>\n",
       "    </tr>\n",
       "  </tbody>\n",
       "</table>\n",
       "</div>"
      ],
      "text/plain": [
       "  prospect_id  days_to_contact  days_to_engage  days_to_apply  days_to_enroll\n",
       "0       P0001              NaN             NaN            NaN             NaN\n",
       "1       P0002              2.0             3.0            4.0             NaN\n",
       "2       P0003              4.0             1.0            1.0             NaN\n",
       "3       P0004              2.0             4.0            3.0             6.0\n",
       "4       P0005              5.0             1.0            6.0             3.0"
      ]
     },
     "execution_count": 9,
     "metadata": {},
     "output_type": "execute_result"
    }
   ],
   "source": [
    "# Calculate days between funnel stages\n",
    "df[\"days_to_contact\"] = (df[\"contacted_date\"] - df[\"lead_date\"]).dt.days\n",
    "df[\"days_to_engage\"] = (df[\"engaged_date\"] - df[\"contacted_date\"]).dt.days\n",
    "df[\"days_to_apply\"] = (df[\"application_date\"] - df[\"engaged_date\"]).dt.days\n",
    "df[\"days_to_enroll\"] = (df[\"enrolled_date\"] - df[\"application_date\"]).dt.days\n",
    "\n",
    "# Preview the new timing columns\n",
    "df[[\"prospect_id\", \"days_to_contact\", \"days_to_engage\", \"days_to_apply\", \"days_to_enroll\"]].head()"
   ]
  },
  {
   "cell_type": "markdown",
   "id": "07530254-a255-4ce3-8e99-185ae1802a49",
   "metadata": {},
   "source": [
    "Export cleaned data to a new CSV"
   ]
  },
  {
   "cell_type": "code",
   "execution_count": 10,
   "id": "21afd0fb-b7af-4da2-ae9f-d0b48eb4fa34",
   "metadata": {},
   "outputs": [],
   "source": [
    "# Export cleaned data to a new CSV\n",
    "df.to_csv(\"../data/prospect_funnel_clean.csv\", index=False)"
   ]
  },
  {
   "cell_type": "code",
   "execution_count": null,
   "id": "89b7d78c-9a2c-4152-93f3-2236bd3169e5",
   "metadata": {},
   "outputs": [],
   "source": []
  }
 ],
 "metadata": {
  "kernelspec": {
   "display_name": "Python 3 (ipykernel)",
   "language": "python",
   "name": "python3"
  },
  "language_info": {
   "codemirror_mode": {
    "name": "ipython",
    "version": 3
   },
   "file_extension": ".py",
   "mimetype": "text/x-python",
   "name": "python",
   "nbconvert_exporter": "python",
   "pygments_lexer": "ipython3",
   "version": "3.13.2"
  }
 },
 "nbformat": 4,
 "nbformat_minor": 5
}
